{
  "cells": [
    {
      "cell_type": "markdown",
      "metadata": {},
      "source": [
        "modified version of the code provided by NASA's GL4HS that does NOT reduce and is intended to run locally rather than on google colab \n",
        "i also made some of my own tweaks like parallelizing downloads, some exception handling, progress bars (‼), and using more python where applicable!!"
      ]
    },
    {
      "cell_type": "code",
      "execution_count": null,
      "metadata": {
        "vscode": {
          "languageId": "plaintext"
        }
      },
      "outputs": [],
      "source": [
        "import datetime\n",
        "import os\n",
        "import gzip\n",
        "import shutil\n",
        "import threading\n",
        "import subprocess\n",
        "\n",
        "start_time = datetime.datetime.now()\n",
        "print(\"Notebook start time:\", start_time.strftime('%Y-%m-%d %H:%M:%S'))\n",
        "\n",
        "HOME_DIR = os.path.expanduser(\"~\")\n",
        "FASTQ_DIR = os.path.join(HOME_DIR, \"FASTQ\")\n",
        "os.makedirs(FASTQ_DIR, exist_ok=True)\n",
        "print(f\"FASTQ directory is set to: {FASTQ_DIR}\")\n",
        "\n",
        "OSD_DATASET = '104'\n",
        "GLDS_DATASET = '104'\n",
        "SAMPLE_NAME = 'Mmus_C57-6J_SLS_GC_Rep1_M33'\n",
        "SAMPLE_FILE_NAME = f'GLDS-{GLDS_DATASET}_rna_seq_{SAMPLE_NAME}'\n",
        "FASTQ_FILE_NAME_1 = f'{SAMPLE_FILE_NAME}_R1_raw.fastq.gz'\n",
        "FASTQ_FILE_NAME_2 = f'{SAMPLE_FILE_NAME}_R2_raw.fastq.gz'\n",
        "\n",
        "with open(os.path.join(FASTQ_DIR, \"KEEP_FRACTION.txt\"), \"w\") as f:\n",
        "    f.write(\"1.0\\n\")  \n",
        "\n",
        "def download_fastq_curl(file_name):\n",
        "    url = f\"https://osdr.nasa.gov/geode-py/ws/studies/OSD-{OSD_DATASET}/download?source=datamanager&file={file_name}\"\n",
        "    output_path = os.path.join(FASTQ_DIR, file_name)\n",
        "    print(f\"Starting download: {file_name}\")\n",
        "    cmd = [\"curl\", \"-L\", \"--progress-bar\", \"--output\", output_path, url]\n",
        "    subprocess.run(cmd, check=True)\n",
        "    print(f\"Finished download: {file_name}\")\n",
        "\n",
        "# Start downloads in parallel threads\n",
        "threads = []\n",
        "for fname in [FASTQ_FILE_NAME_1, FASTQ_FILE_NAME_2]:\n",
        "    t = threading.Thread(target=download_fastq_curl, args=(fname,))\n",
        "    t.start()\n",
        "    threads.append(t)\n",
        "\n",
        "for t in threads:\n",
        "    t.join()\n",
        "\n",
        "def decompress_fastq(input_path, output_path):\n",
        "    print(f\"Decompressing: {input_path}\")\n",
        "    with gzip.open(input_path, 'rt') as fin, open(output_path, 'w') as fout:\n",
        "        for line in fin:\n",
        "            fout.write(line)\n",
        "\n",
        "def recompress_fastq(input_path):\n",
        "    output_path = input_path + \".gz\"\n",
        "    print(f\"Compressing: {input_path} → {output_path}\")\n",
        "    with open(input_path, 'rb') as fin, gzip.open(output_path, 'wb') as fout:\n",
        "        shutil.copyfileobj(fin, fout)\n",
        "    os.remove(input_path)\n",
        "\n",
        "r1_path = os.path.join(FASTQ_DIR, FASTQ_FILE_NAME_1)\n",
        "r1_decompressed = os.path.join(FASTQ_DIR, \"reduced_r1.fastq\")\n",
        "decompress_fastq(r1_path, r1_decompressed)\n",
        "if os.path.exists(r1_path):\n",
        "    os.remove(r1_path)\n",
        "\n",
        "r2_path = os.path.join(FASTQ_DIR, FASTQ_FILE_NAME_2)\n",
        "r2_decompressed = os.path.join(FASTQ_DIR, \"reduced_r2.fastq\")\n",
        "decompress_fastq(r2_path, r2_decompressed)\n",
        "if os.path.exists(r2_path):\n",
        "    os.remove(r2_path)\n",
        "\n",
        "recompress_fastq(r1_decompressed)\n",
        "recompress_fastq(r2_decompressed)\n",
        "\n",
        "print(\"\\nFinal file sizes:\")\n",
        "subprocess.run(f\"ls -lh {FASTQ_DIR}/reduced_r*.fastq.gz\", shell=True)\n",
        "\n",
        "print(\"\\nDisk usage:\")\n",
        "subprocess.run(f\"du -sh {FASTQ_DIR}\", shell=True)\n",
        "\n",
        "end_time = datetime.datetime.now()\n",
        "print(\"\\nNotebook end time:\", end_time.strftime('%Y-%m-%d %H:%M:%S'))\n",
        "print(\"Total notebook time:\", end_time - start_time)\n"
      ]
    }
  ],
  "metadata": {
    "colab": {
      "provenance": [],
      "toc_visible": true
    },
    "kernelspec": {
      "display_name": "Python 3",
      "name": "python3"
    },
    "language_info": {
      "name": "python"
    }
  },
  "nbformat": 4,
  "nbformat_minor": 0
}
